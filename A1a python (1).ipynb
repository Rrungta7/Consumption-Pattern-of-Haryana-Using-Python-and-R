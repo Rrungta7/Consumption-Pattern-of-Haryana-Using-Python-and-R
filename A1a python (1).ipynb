{
 "cells": [
  {
   "cell_type": "code",
   "execution_count": 2,
   "id": "0532a361",
   "metadata": {
    "ExecuteTime": {
     "end_time": "2024-06-16T10:15:49.396620Z",
     "start_time": "2024-06-16T10:15:47.995969Z"
    }
   },
   "outputs": [],
   "source": [
    "import os, pandas as pd, numpy as np"
   ]
  },
  {
   "cell_type": "code",
   "execution_count": 3,
   "id": "fd3e9cd0",
   "metadata": {
    "ExecuteTime": {
     "end_time": "2024-06-16T10:15:50.841477Z",
     "start_time": "2024-06-16T10:15:50.836891Z"
    }
   },
   "outputs": [],
   "source": [
    "os.chdir(\"C:\\\\Users\\\\RIDDHI\\\\OneDrive\\\\Desktop\\\\Bootcamp\\\\SCMA\\\\SCMA A1a\")"
   ]
  },
  {
   "cell_type": "code",
   "execution_count": 4,
   "id": "2c7b48a8",
   "metadata": {
    "ExecuteTime": {
     "end_time": "2024-06-16T10:16:04.084743Z",
     "start_time": "2024-06-16T10:15:52.236332Z"
    }
   },
   "outputs": [],
   "source": [
    "df=pd.read_csv(\"NSSO68.csv\",encoding=\"Latin-1\", low_memory=False)"
   ]
  },
  {
   "cell_type": "code",
   "execution_count": 5,
   "id": "550bbf03",
   "metadata": {
    "ExecuteTime": {
     "end_time": "2024-06-16T10:16:05.280199Z",
     "start_time": "2024-06-16T10:16:05.210652Z"
    }
   },
   "outputs": [
    {
     "data": {
      "text/html": [
       "<div>\n",
       "<style scoped>\n",
       "    .dataframe tbody tr th:only-of-type {\n",
       "        vertical-align: middle;\n",
       "    }\n",
       "\n",
       "    .dataframe tbody tr th {\n",
       "        vertical-align: top;\n",
       "    }\n",
       "\n",
       "    .dataframe thead th {\n",
       "        text-align: right;\n",
       "    }\n",
       "</style>\n",
       "<table border=\"1\" class=\"dataframe\">\n",
       "  <thead>\n",
       "    <tr style=\"text-align: right;\">\n",
       "      <th></th>\n",
       "      <th>slno</th>\n",
       "      <th>grp</th>\n",
       "      <th>Round_Centre</th>\n",
       "      <th>FSU_number</th>\n",
       "      <th>Round</th>\n",
       "      <th>Schedule_Number</th>\n",
       "      <th>Sample</th>\n",
       "      <th>Sector</th>\n",
       "      <th>state</th>\n",
       "      <th>State_Region</th>\n",
       "      <th>...</th>\n",
       "      <th>pickle_v</th>\n",
       "      <th>sauce_jam_v</th>\n",
       "      <th>Othrprocessed_v</th>\n",
       "      <th>Beveragestotal_v</th>\n",
       "      <th>foodtotal_v</th>\n",
       "      <th>foodtotal_q</th>\n",
       "      <th>state_1</th>\n",
       "      <th>Region</th>\n",
       "      <th>fruits_df_tt_v</th>\n",
       "      <th>fv_tot</th>\n",
       "    </tr>\n",
       "  </thead>\n",
       "  <tbody>\n",
       "    <tr>\n",
       "      <th>0</th>\n",
       "      <td>1</td>\n",
       "      <td>4.10E+31</td>\n",
       "      <td>1</td>\n",
       "      <td>41000</td>\n",
       "      <td>68</td>\n",
       "      <td>10</td>\n",
       "      <td>1</td>\n",
       "      <td>2</td>\n",
       "      <td>24</td>\n",
       "      <td>242</td>\n",
       "      <td>...</td>\n",
       "      <td>0.0</td>\n",
       "      <td>0.0</td>\n",
       "      <td>0.0</td>\n",
       "      <td>0.000000</td>\n",
       "      <td>1141.492400</td>\n",
       "      <td>30.942394</td>\n",
       "      <td>GUJ</td>\n",
       "      <td>2</td>\n",
       "      <td>12.000000</td>\n",
       "      <td>154.18</td>\n",
       "    </tr>\n",
       "    <tr>\n",
       "      <th>1</th>\n",
       "      <td>2</td>\n",
       "      <td>4.10E+31</td>\n",
       "      <td>1</td>\n",
       "      <td>41000</td>\n",
       "      <td>68</td>\n",
       "      <td>10</td>\n",
       "      <td>1</td>\n",
       "      <td>2</td>\n",
       "      <td>24</td>\n",
       "      <td>242</td>\n",
       "      <td>...</td>\n",
       "      <td>0.0</td>\n",
       "      <td>0.0</td>\n",
       "      <td>0.0</td>\n",
       "      <td>17.500000</td>\n",
       "      <td>1244.553500</td>\n",
       "      <td>29.286153</td>\n",
       "      <td>GUJ</td>\n",
       "      <td>2</td>\n",
       "      <td>333.000000</td>\n",
       "      <td>484.95</td>\n",
       "    </tr>\n",
       "    <tr>\n",
       "      <th>2</th>\n",
       "      <td>3</td>\n",
       "      <td>4.10E+31</td>\n",
       "      <td>1</td>\n",
       "      <td>41000</td>\n",
       "      <td>68</td>\n",
       "      <td>10</td>\n",
       "      <td>1</td>\n",
       "      <td>2</td>\n",
       "      <td>24</td>\n",
       "      <td>242</td>\n",
       "      <td>...</td>\n",
       "      <td>0.0</td>\n",
       "      <td>0.0</td>\n",
       "      <td>0.0</td>\n",
       "      <td>0.000000</td>\n",
       "      <td>1050.315400</td>\n",
       "      <td>31.527046</td>\n",
       "      <td>GUJ</td>\n",
       "      <td>2</td>\n",
       "      <td>35.000000</td>\n",
       "      <td>214.84</td>\n",
       "    </tr>\n",
       "    <tr>\n",
       "      <th>3</th>\n",
       "      <td>4</td>\n",
       "      <td>4.10E+31</td>\n",
       "      <td>1</td>\n",
       "      <td>41000</td>\n",
       "      <td>68</td>\n",
       "      <td>10</td>\n",
       "      <td>1</td>\n",
       "      <td>2</td>\n",
       "      <td>24</td>\n",
       "      <td>242</td>\n",
       "      <td>...</td>\n",
       "      <td>0.0</td>\n",
       "      <td>0.0</td>\n",
       "      <td>0.0</td>\n",
       "      <td>33.333333</td>\n",
       "      <td>1142.591667</td>\n",
       "      <td>27.834607</td>\n",
       "      <td>GUJ</td>\n",
       "      <td>2</td>\n",
       "      <td>168.333333</td>\n",
       "      <td>302.30</td>\n",
       "    </tr>\n",
       "    <tr>\n",
       "      <th>4</th>\n",
       "      <td>5</td>\n",
       "      <td>4.10E+31</td>\n",
       "      <td>1</td>\n",
       "      <td>41000</td>\n",
       "      <td>68</td>\n",
       "      <td>10</td>\n",
       "      <td>1</td>\n",
       "      <td>2</td>\n",
       "      <td>24</td>\n",
       "      <td>242</td>\n",
       "      <td>...</td>\n",
       "      <td>0.0</td>\n",
       "      <td>0.0</td>\n",
       "      <td>0.0</td>\n",
       "      <td>75.000000</td>\n",
       "      <td>945.249500</td>\n",
       "      <td>27.600713</td>\n",
       "      <td>GUJ</td>\n",
       "      <td>2</td>\n",
       "      <td>15.000000</td>\n",
       "      <td>148.00</td>\n",
       "    </tr>\n",
       "  </tbody>\n",
       "</table>\n",
       "<p>5 rows × 384 columns</p>\n",
       "</div>"
      ],
      "text/plain": [
       "   slno       grp  Round_Centre  FSU_number  Round  Schedule_Number  Sample  \\\n",
       "0     1  4.10E+31             1       41000     68               10       1   \n",
       "1     2  4.10E+31             1       41000     68               10       1   \n",
       "2     3  4.10E+31             1       41000     68               10       1   \n",
       "3     4  4.10E+31             1       41000     68               10       1   \n",
       "4     5  4.10E+31             1       41000     68               10       1   \n",
       "\n",
       "   Sector  state  State_Region  ...  pickle_v  sauce_jam_v  Othrprocessed_v  \\\n",
       "0       2     24           242  ...       0.0          0.0              0.0   \n",
       "1       2     24           242  ...       0.0          0.0              0.0   \n",
       "2       2     24           242  ...       0.0          0.0              0.0   \n",
       "3       2     24           242  ...       0.0          0.0              0.0   \n",
       "4       2     24           242  ...       0.0          0.0              0.0   \n",
       "\n",
       "   Beveragestotal_v  foodtotal_v  foodtotal_q  state_1  Region  \\\n",
       "0          0.000000  1141.492400    30.942394      GUJ       2   \n",
       "1         17.500000  1244.553500    29.286153      GUJ       2   \n",
       "2          0.000000  1050.315400    31.527046      GUJ       2   \n",
       "3         33.333333  1142.591667    27.834607      GUJ       2   \n",
       "4         75.000000   945.249500    27.600713      GUJ       2   \n",
       "\n",
       "   fruits_df_tt_v  fv_tot  \n",
       "0       12.000000  154.18  \n",
       "1      333.000000  484.95  \n",
       "2       35.000000  214.84  \n",
       "3      168.333333  302.30  \n",
       "4       15.000000  148.00  \n",
       "\n",
       "[5 rows x 384 columns]"
      ]
     },
     "execution_count": 5,
     "metadata": {},
     "output_type": "execute_result"
    }
   ],
   "source": [
    "df.head()"
   ]
  },
  {
   "cell_type": "code",
   "execution_count": 6,
   "id": "2d35a4db",
   "metadata": {
    "ExecuteTime": {
     "end_time": "2024-06-16T10:16:09.802843Z",
     "start_time": "2024-06-16T10:16:09.648192Z"
    }
   },
   "outputs": [],
   "source": [
    "HR = df[df['state']==6]"
   ]
  },
  {
   "cell_type": "code",
   "execution_count": 7,
   "id": "32725550",
   "metadata": {
    "ExecuteTime": {
     "end_time": "2024-06-16T10:16:11.812225Z",
     "start_time": "2024-06-16T10:16:11.783885Z"
    }
   },
   "outputs": [
    {
     "data": {
      "text/plain": [
       "soyabean_v             2591\n",
       "soyabean_q             2591\n",
       "Meals_School           2586\n",
       "Meals_Employer         2561\n",
       "Otherwise_possessed    2552\n",
       "                       ... \n",
       "palak_q                   0\n",
       "carrot_q                  0\n",
       "radish_q                  0\n",
       "brinjal_q                 0\n",
       "fv_tot                    0\n",
       "Length: 384, dtype: int64"
      ]
     },
     "execution_count": 7,
     "metadata": {},
     "output_type": "execute_result"
    }
   ],
   "source": [
    "HR.isnull().sum().sort_values(ascending = False)"
   ]
  },
  {
   "cell_type": "code",
   "execution_count": 8,
   "id": "e4792270",
   "metadata": {
    "ExecuteTime": {
     "end_time": "2024-06-16T10:16:13.989311Z",
     "start_time": "2024-06-16T10:16:13.983296Z"
    }
   },
   "outputs": [
    {
     "data": {
      "text/plain": [
       "Index(['slno', 'grp', 'Round_Centre', 'FSU_number', 'Round', 'Schedule_Number',\n",
       "       'Sample', 'Sector', 'state', 'State_Region',\n",
       "       ...\n",
       "       'pickle_v', 'sauce_jam_v', 'Othrprocessed_v', 'Beveragestotal_v',\n",
       "       'foodtotal_v', 'foodtotal_q', 'state_1', 'Region', 'fruits_df_tt_v',\n",
       "       'fv_tot'],\n",
       "      dtype='object', length=384)"
      ]
     },
     "execution_count": 8,
     "metadata": {},
     "output_type": "execute_result"
    }
   ],
   "source": [
    "df.columns"
   ]
  },
  {
   "cell_type": "code",
   "execution_count": 9,
   "id": "995fbd7d",
   "metadata": {
    "ExecuteTime": {
     "end_time": "2024-06-16T10:20:50.710568Z",
     "start_time": "2024-06-16T10:20:50.703352Z"
    }
   },
   "outputs": [],
   "source": [
    "HR_new = HR[['state_1', 'District', 'Sector','Region','State_Region','ricetotal_q','wheattotal_q','moong_q','Milktotal_q','chicken_q','bread_q','foodtotal_q','Beveragestotal_v','Meals_At_Home']]"
   ]
  },
  {
   "cell_type": "code",
   "execution_count": 10,
   "id": "c51a30c5",
   "metadata": {
    "ExecuteTime": {
     "end_time": "2024-06-16T10:20:51.924641Z",
     "start_time": "2024-06-16T10:20:51.915336Z"
    }
   },
   "outputs": [
    {
     "data": {
      "text/plain": [
       "Meals_At_Home       14\n",
       "state_1              0\n",
       "District             0\n",
       "Sector               0\n",
       "Region               0\n",
       "State_Region         0\n",
       "ricetotal_q          0\n",
       "wheattotal_q         0\n",
       "moong_q              0\n",
       "Milktotal_q          0\n",
       "chicken_q            0\n",
       "bread_q              0\n",
       "foodtotal_q          0\n",
       "Beveragestotal_v     0\n",
       "dtype: int64"
      ]
     },
     "execution_count": 10,
     "metadata": {},
     "output_type": "execute_result"
    }
   ],
   "source": [
    "HR_new.isnull().sum().sort_values(ascending = False)"
   ]
  },
  {
   "cell_type": "code",
   "execution_count": 11,
   "id": "42af1fb2",
   "metadata": {
    "ExecuteTime": {
     "end_time": "2024-06-16T10:20:53.377364Z",
     "start_time": "2024-06-16T10:20:53.372637Z"
    }
   },
   "outputs": [],
   "source": [
    "HR_clean = HR_new.copy()"
   ]
  },
  {
   "cell_type": "code",
   "execution_count": 12,
   "id": "72563526",
   "metadata": {
    "ExecuteTime": {
     "end_time": "2024-06-16T10:20:56.084026Z",
     "start_time": "2024-06-16T10:20:56.078287Z"
    }
   },
   "outputs": [],
   "source": [
    "HR_clean.loc[:, 'Meals_At_Home'] = HR_clean['Meals_At_Home'].fillna(HR_new['Meals_At_Home'].mean())"
   ]
  },
  {
   "cell_type": "code",
   "execution_count": 13,
   "id": "5330a3c9",
   "metadata": {
    "ExecuteTime": {
     "end_time": "2024-06-16T10:21:00.719814Z",
     "start_time": "2024-06-16T10:21:00.711639Z"
    }
   },
   "outputs": [
    {
     "data": {
      "text/plain": [
       "state_1             False\n",
       "District            False\n",
       "Sector              False\n",
       "Region              False\n",
       "State_Region        False\n",
       "ricetotal_q         False\n",
       "wheattotal_q        False\n",
       "moong_q             False\n",
       "Milktotal_q         False\n",
       "chicken_q           False\n",
       "bread_q             False\n",
       "foodtotal_q         False\n",
       "Beveragestotal_v    False\n",
       "Meals_At_Home       False\n",
       "dtype: bool"
      ]
     },
     "execution_count": 13,
     "metadata": {},
     "output_type": "execute_result"
    }
   ],
   "source": [
    "HR_clean.isnull().any()"
   ]
  },
  {
   "cell_type": "code",
   "execution_count": 14,
   "id": "7c188e84",
   "metadata": {
    "ExecuteTime": {
     "end_time": "2024-06-16T04:25:21.294749Z",
     "start_time": "2024-06-16T04:25:21.291497Z"
    }
   },
   "outputs": [],
   "source": [
    "# Outlier Checking"
   ]
  },
  {
   "cell_type": "code",
   "execution_count": 15,
   "id": "53723eaa",
   "metadata": {
    "ExecuteTime": {
     "end_time": "2024-06-16T10:22:13.080162Z",
     "start_time": "2024-06-16T10:22:12.710152Z"
    }
   },
   "outputs": [
    {
     "data": {
      "image/png": "[encoded data removed]",
      "text/plain": [
       "<Figure size 800x600 with 1 Axes>"
      ]
     },
     "metadata": {},
     "output_type": "display_data"
    }
   ],
   "source": [
    "import matplotlib.pyplot as plt\n",
    "# Assuming HR_clean is your DataFrame\n",
    "plt.figure(figsize=(8, 6))\n",
    "plt.boxplot(HR_clean['ricetotal_q'])\n",
    "plt.xlabel('ricetotal_q')\n",
    "plt.ylabel('Values')\n",
    "plt.title('Boxplot of ricetotal_q')\n",
    "plt.show()"
   ]
  },
  {
   "cell_type": "code",
   "execution_count": 16,
   "id": "adbfd8ac",
   "metadata": {
    "ExecuteTime": {
     "end_time": "2024-06-16T10:22:31.063124Z",
     "start_time": "2024-06-16T10:22:31.055234Z"
    }
   },
   "outputs": [],
   "source": [
    "rice1 = HR_clean['ricetotal_q'].quantile(0.25)\n",
    "rice2 = HR_clean['ricetotal_q'].quantile(0.75)\n",
    "iqr_rice = rice2-rice1\n",
    "up_limit = rice2 + 1.5*iqr_rice\n",
    "low_limit = rice1 - 1.5*iqr_rice"
   ]
  },
  {
   "cell_type": "code",
   "execution_count": 17,
   "id": "0ae50df0",
   "metadata": {
    "ExecuteTime": {
     "end_time": "2024-06-16T10:22:43.643572Z",
     "start_time": "2024-06-16T10:22:43.634294Z"
    }
   },
   "outputs": [],
   "source": [
    "HR_clean=HR_new[(HR_new['ricetotal_q']<=up_limit)&(HR_new['ricetotal_q']>=low_limit)]"
   ]
  },
  {
   "cell_type": "code",
   "execution_count": 18,
   "id": "bb56d36d",
   "metadata": {
    "ExecuteTime": {
     "end_time": "2024-06-16T10:23:15.268648Z",
     "start_time": "2024-06-16T10:23:15.119902Z"
    }
   },
   "outputs": [
    {
     "data": {
      "text/plain": [
       "{'whiskers': [<matplotlib.lines.Line2D at 0x281381ecdd0>,\n",
       "  <matplotlib.lines.Line2D at 0x281381eda50>],\n",
       " 'caps': [<matplotlib.lines.Line2D at 0x281381ee5d0>,\n",
       "  <matplotlib.lines.Line2D at 0x281381ef0d0>],\n",
       " 'boxes': [<matplotlib.lines.Line2D at 0x281381ec190>],\n",
       " 'medians': [<matplotlib.lines.Line2D at 0x281381efb50>],\n",
       " 'fliers': [<matplotlib.lines.Line2D at 0x281381f85d0>],\n",
       " 'means': []}"
      ]
     },
     "execution_count": 18,
     "metadata": {},
     "output_type": "execute_result"
    },
    {
     "data": {
      "image/png": "[encoded data removed]",
      "text/plain": [
       "<Figure size 640x480 with 1 Axes>"
      ]
     },
     "metadata": {},
     "output_type": "display_data"
    }
   ],
   "source": [
    "plt.boxplot(HR_clean['ricetotal_q'])"
   ]
  },
  {
   "cell_type": "code",
   "execution_count": 19,
   "id": "60373275",
   "metadata": {
    "ExecuteTime": {
     "end_time": "2024-06-16T10:23:19.022374Z",
     "start_time": "2024-06-16T10:23:19.011587Z"
    }
   },
   "outputs": [
    {
     "data": {
      "text/plain": [
       "array([19, 20, 18, 17, 13, 14, 16, 15, 12, 11,  8, 10,  7,  9,  6,  5,  2,\n",
       "        4,  1,  3], dtype=int64)"
      ]
     },
     "execution_count": 19,
     "metadata": {},
     "output_type": "execute_result"
    }
   ],
   "source": [
    "HR_clean['District'].unique()"
   ]
  },
  {
   "cell_type": "code",
   "execution_count": 20,
   "id": "37cdeaa5",
   "metadata": {
    "ExecuteTime": {
     "end_time": "2024-06-16T10:23:21.044003Z",
     "start_time": "2024-06-16T10:23:21.036312Z"
    }
   },
   "outputs": [],
   "source": [
    "# Replace values in the 'Sector' column\n",
    "HR_clean.loc[:,'Sector'] = HR_clean['Sector'].replace([1, 2], ['URBAN', 'RURAL'])"
   ]
  },
  {
   "cell_type": "code",
   "execution_count": 27,
   "id": "4338bcd0",
   "metadata": {
    "ExecuteTime": {
     "end_time": "2024-06-16T04:29:12.691488Z",
     "start_time": "2024-06-16T04:29:12.688111Z"
    }
   },
   "outputs": [],
   "source": [
    "#total consumption"
   ]
  },
  {
   "cell_type": "code",
   "execution_count": 23,
   "id": "97703b81",
   "metadata": {
    "ExecuteTime": {
     "end_time": "2024-06-16T10:23:35.351538Z",
     "start_time": "2024-06-16T10:23:35.346912Z"
    }
   },
   "outputs": [
    {
     "data": {
      "text/plain": [
       "Index(['state_1', 'District', 'Sector', 'Region', 'State_Region',\n",
       "       'ricetotal_q', 'wheattotal_q', 'moong_q', 'Milktotal_q', 'chicken_q',\n",
       "       'bread_q', 'foodtotal_q', 'Beveragestotal_v', 'Meals_At_Home',\n",
       "       'total_consumption'],\n",
       "      dtype='object')"
      ]
     },
     "execution_count": 23,
     "metadata": {},
     "output_type": "execute_result"
    }
   ],
   "source": [
    "HR_clean.columns"
   ]
  },
  {
   "cell_type": "code",
   "execution_count": 24,
   "id": "5907b983",
   "metadata": {
    "ExecuteTime": {
     "end_time": "2024-06-16T10:24:00.625661Z",
     "start_time": "2024-06-16T10:24:00.615361Z"
    },
    "scrolled": true
   },
   "outputs": [],
   "source": [
    "HR_clean.loc[:, 'total_consumption'] = HR_clean[['ricetotal_q', 'wheattotal_q', 'moong_q', 'Milktotal_q', 'chicken_q', 'bread_q', 'foodtotal_q', 'Beveragestotal_v']].sum(axis=1)"
   ]
  },
  {
   "cell_type": "code",
   "execution_count": 25,
   "id": "08face5f",
   "metadata": {
    "ExecuteTime": {
     "end_time": "2024-06-16T10:24:02.553328Z",
     "start_time": "2024-06-16T10:24:02.537298Z"
    }
   },
   "outputs": [
    {
     "data": {
      "text/html": [
       "<div>\n",
       "<style scoped>\n",
       "    .dataframe tbody tr th:only-of-type {\n",
       "        vertical-align: middle;\n",
       "    }\n",
       "\n",
       "    .dataframe tbody tr th {\n",
       "        vertical-align: top;\n",
       "    }\n",
       "\n",
       "    .dataframe thead th {\n",
       "        text-align: right;\n",
       "    }\n",
       "</style>\n",
       "<table border=\"1\" class=\"dataframe\">\n",
       "  <thead>\n",
       "    <tr style=\"text-align: right;\">\n",
       "      <th></th>\n",
       "      <th>state_1</th>\n",
       "      <th>District</th>\n",
       "      <th>Sector</th>\n",
       "      <th>Region</th>\n",
       "      <th>State_Region</th>\n",
       "      <th>ricetotal_q</th>\n",
       "      <th>wheattotal_q</th>\n",
       "      <th>moong_q</th>\n",
       "      <th>Milktotal_q</th>\n",
       "      <th>chicken_q</th>\n",
       "      <th>bread_q</th>\n",
       "      <th>foodtotal_q</th>\n",
       "      <th>Beveragestotal_v</th>\n",
       "      <th>Meals_At_Home</th>\n",
       "      <th>total_consumption</th>\n",
       "    </tr>\n",
       "  </thead>\n",
       "  <tbody>\n",
       "    <tr>\n",
       "      <th>35704</th>\n",
       "      <td>HR</td>\n",
       "      <td>19</td>\n",
       "      <td>RURAL</td>\n",
       "      <td>1</td>\n",
       "      <td>61</td>\n",
       "      <td>1.250000</td>\n",
       "      <td>4.000000</td>\n",
       "      <td>0.125000</td>\n",
       "      <td>0</td>\n",
       "      <td>0.0</td>\n",
       "      <td>0.062500</td>\n",
       "      <td>40.925704</td>\n",
       "      <td>50.000000</td>\n",
       "      <td>90.0</td>\n",
       "      <td>96.363204</td>\n",
       "    </tr>\n",
       "    <tr>\n",
       "      <th>35705</th>\n",
       "      <td>HR</td>\n",
       "      <td>19</td>\n",
       "      <td>RURAL</td>\n",
       "      <td>1</td>\n",
       "      <td>61</td>\n",
       "      <td>0.500000</td>\n",
       "      <td>5.833333</td>\n",
       "      <td>0.166667</td>\n",
       "      <td>0</td>\n",
       "      <td>0.0</td>\n",
       "      <td>0.333333</td>\n",
       "      <td>27.441958</td>\n",
       "      <td>50.000000</td>\n",
       "      <td>90.0</td>\n",
       "      <td>84.275292</td>\n",
       "    </tr>\n",
       "    <tr>\n",
       "      <th>35706</th>\n",
       "      <td>HR</td>\n",
       "      <td>19</td>\n",
       "      <td>RURAL</td>\n",
       "      <td>1</td>\n",
       "      <td>61</td>\n",
       "      <td>0.833333</td>\n",
       "      <td>6.000000</td>\n",
       "      <td>0.083333</td>\n",
       "      <td>0</td>\n",
       "      <td>0.0</td>\n",
       "      <td>0.083333</td>\n",
       "      <td>31.767038</td>\n",
       "      <td>33.333333</td>\n",
       "      <td>90.0</td>\n",
       "      <td>72.100372</td>\n",
       "    </tr>\n",
       "    <tr>\n",
       "      <th>35707</th>\n",
       "      <td>HR</td>\n",
       "      <td>19</td>\n",
       "      <td>RURAL</td>\n",
       "      <td>1</td>\n",
       "      <td>61</td>\n",
       "      <td>1.000000</td>\n",
       "      <td>5.000000</td>\n",
       "      <td>0.250000</td>\n",
       "      <td>0</td>\n",
       "      <td>0.0</td>\n",
       "      <td>0.125000</td>\n",
       "      <td>37.100600</td>\n",
       "      <td>50.000000</td>\n",
       "      <td>90.0</td>\n",
       "      <td>93.475600</td>\n",
       "    </tr>\n",
       "    <tr>\n",
       "      <th>35708</th>\n",
       "      <td>HR</td>\n",
       "      <td>19</td>\n",
       "      <td>RURAL</td>\n",
       "      <td>1</td>\n",
       "      <td>61</td>\n",
       "      <td>0.600000</td>\n",
       "      <td>3.000000</td>\n",
       "      <td>0.100000</td>\n",
       "      <td>0</td>\n",
       "      <td>0.0</td>\n",
       "      <td>0.000000</td>\n",
       "      <td>26.894340</td>\n",
       "      <td>40.000000</td>\n",
       "      <td>90.0</td>\n",
       "      <td>70.594340</td>\n",
       "    </tr>\n",
       "  </tbody>\n",
       "</table>\n",
       "</div>"
      ],
      "text/plain": [
       "      state_1  District Sector  Region  State_Region  ricetotal_q  \\\n",
       "35704      HR        19  RURAL       1            61     1.250000   \n",
       "35705      HR        19  RURAL       1            61     0.500000   \n",
       "35706      HR        19  RURAL       1            61     0.833333   \n",
       "35707      HR        19  RURAL       1            61     1.000000   \n",
       "35708      HR        19  RURAL       1            61     0.600000   \n",
       "\n",
       "       wheattotal_q   moong_q  Milktotal_q  chicken_q   bread_q  foodtotal_q  \\\n",
       "35704      4.000000  0.125000            0        0.0  0.062500    40.925704   \n",
       "35705      5.833333  0.166667            0        0.0  0.333333    27.441958   \n",
       "35706      6.000000  0.083333            0        0.0  0.083333    31.767038   \n",
       "35707      5.000000  0.250000            0        0.0  0.125000    37.100600   \n",
       "35708      3.000000  0.100000            0        0.0  0.000000    26.894340   \n",
       "\n",
       "       Beveragestotal_v  Meals_At_Home  total_consumption  \n",
       "35704         50.000000           90.0          96.363204  \n",
       "35705         50.000000           90.0          84.275292  \n",
       "35706         33.333333           90.0          72.100372  \n",
       "35707         50.000000           90.0          93.475600  \n",
       "35708         40.000000           90.0          70.594340  "
      ]
     },
     "execution_count": 25,
     "metadata": {},
     "output_type": "execute_result"
    }
   ],
   "source": [
    "HR_clean.head()"
   ]
  },
  {
   "cell_type": "code",
   "execution_count": 26,
   "id": "21f5310f",
   "metadata": {
    "ExecuteTime": {
     "end_time": "2024-06-16T10:24:05.914207Z",
     "start_time": "2024-06-16T10:24:05.880170Z"
    }
   },
   "outputs": [
    {
     "data": {
      "text/html": [
       "<div>\n",
       "<style scoped>\n",
       "    .dataframe tbody tr th:only-of-type {\n",
       "        vertical-align: middle;\n",
       "    }\n",
       "\n",
       "    .dataframe tbody tr th {\n",
       "        vertical-align: top;\n",
       "    }\n",
       "\n",
       "    .dataframe thead tr th {\n",
       "        text-align: left;\n",
       "    }\n",
       "\n",
       "    .dataframe thead tr:last-of-type th {\n",
       "        text-align: right;\n",
       "    }\n",
       "</style>\n",
       "<table border=\"1\" class=\"dataframe\">\n",
       "  <thead>\n",
       "    <tr>\n",
       "      <th></th>\n",
       "      <th colspan=\"4\" halign=\"left\">total_consumption</th>\n",
       "    </tr>\n",
       "    <tr>\n",
       "      <th></th>\n",
       "      <th>std</th>\n",
       "      <th>mean</th>\n",
       "      <th>max</th>\n",
       "      <th>min</th>\n",
       "    </tr>\n",
       "    <tr>\n",
       "      <th>Region</th>\n",
       "      <th></th>\n",
       "      <th></th>\n",
       "      <th></th>\n",
       "      <th></th>\n",
       "    </tr>\n",
       "  </thead>\n",
       "  <tbody>\n",
       "    <tr>\n",
       "      <th>1</th>\n",
       "      <td>40.507237</td>\n",
       "      <td>68.320565</td>\n",
       "      <td>341.600540</td>\n",
       "      <td>0.0</td>\n",
       "    </tr>\n",
       "    <tr>\n",
       "      <th>2</th>\n",
       "      <td>41.183953</td>\n",
       "      <td>69.939714</td>\n",
       "      <td>398.575697</td>\n",
       "      <td>0.0</td>\n",
       "    </tr>\n",
       "  </tbody>\n",
       "</table>\n",
       "</div>"
      ],
      "text/plain": [
       "       total_consumption                            \n",
       "                     std       mean         max  min\n",
       "Region                                              \n",
       "1              40.507237  68.320565  341.600540  0.0\n",
       "2              41.183953  69.939714  398.575697  0.0"
      ]
     },
     "execution_count": 26,
     "metadata": {},
     "output_type": "execute_result"
    }
   ],
   "source": [
    "HR_clean.groupby('Region').agg({'total_consumption':['std','mean','max','min']})"
   ]
  },
  {
   "cell_type": "code",
   "execution_count": 27,
   "id": "9350a8aa",
   "metadata": {
    "ExecuteTime": {
     "end_time": "2024-06-16T10:24:07.986326Z",
     "start_time": "2024-06-16T10:24:07.969988Z"
    }
   },
   "outputs": [
    {
     "data": {
      "text/html": [
       "<div>\n",
       "<style scoped>\n",
       "    .dataframe tbody tr th:only-of-type {\n",
       "        vertical-align: middle;\n",
       "    }\n",
       "\n",
       "    .dataframe tbody tr th {\n",
       "        vertical-align: top;\n",
       "    }\n",
       "\n",
       "    .dataframe thead tr th {\n",
       "        text-align: left;\n",
       "    }\n",
       "\n",
       "    .dataframe thead tr:last-of-type th {\n",
       "        text-align: right;\n",
       "    }\n",
       "</style>\n",
       "<table border=\"1\" class=\"dataframe\">\n",
       "  <thead>\n",
       "    <tr>\n",
       "      <th></th>\n",
       "      <th colspan=\"4\" halign=\"left\">total_consumption</th>\n",
       "    </tr>\n",
       "    <tr>\n",
       "      <th></th>\n",
       "      <th>std</th>\n",
       "      <th>mean</th>\n",
       "      <th>max</th>\n",
       "      <th>min</th>\n",
       "    </tr>\n",
       "    <tr>\n",
       "      <th>District</th>\n",
       "      <th></th>\n",
       "      <th></th>\n",
       "      <th></th>\n",
       "      <th></th>\n",
       "    </tr>\n",
       "  </thead>\n",
       "  <tbody>\n",
       "    <tr>\n",
       "      <th>1</th>\n",
       "      <td>38.181369</td>\n",
       "      <td>52.824764</td>\n",
       "      <td>221.510681</td>\n",
       "      <td>0.000000</td>\n",
       "    </tr>\n",
       "    <tr>\n",
       "      <th>2</th>\n",
       "      <td>39.207696</td>\n",
       "      <td>66.928629</td>\n",
       "      <td>301.000000</td>\n",
       "      <td>0.000000</td>\n",
       "    </tr>\n",
       "    <tr>\n",
       "      <th>3</th>\n",
       "      <td>39.402640</td>\n",
       "      <td>68.002866</td>\n",
       "      <td>202.685775</td>\n",
       "      <td>0.000000</td>\n",
       "    </tr>\n",
       "    <tr>\n",
       "      <th>4</th>\n",
       "      <td>44.345725</td>\n",
       "      <td>75.377076</td>\n",
       "      <td>268.210880</td>\n",
       "      <td>0.000000</td>\n",
       "    </tr>\n",
       "    <tr>\n",
       "      <th>5</th>\n",
       "      <td>20.622553</td>\n",
       "      <td>63.232255</td>\n",
       "      <td>155.833592</td>\n",
       "      <td>5.200000</td>\n",
       "    </tr>\n",
       "    <tr>\n",
       "      <th>6</th>\n",
       "      <td>43.800549</td>\n",
       "      <td>74.134510</td>\n",
       "      <td>237.194597</td>\n",
       "      <td>24.743014</td>\n",
       "    </tr>\n",
       "    <tr>\n",
       "      <th>7</th>\n",
       "      <td>47.837338</td>\n",
       "      <td>62.757131</td>\n",
       "      <td>286.466475</td>\n",
       "      <td>18.212950</td>\n",
       "    </tr>\n",
       "    <tr>\n",
       "      <th>8</th>\n",
       "      <td>25.882125</td>\n",
       "      <td>63.639780</td>\n",
       "      <td>219.143883</td>\n",
       "      <td>21.400099</td>\n",
       "    </tr>\n",
       "    <tr>\n",
       "      <th>9</th>\n",
       "      <td>59.267799</td>\n",
       "      <td>94.618657</td>\n",
       "      <td>398.575697</td>\n",
       "      <td>22.137594</td>\n",
       "    </tr>\n",
       "    <tr>\n",
       "      <th>10</th>\n",
       "      <td>37.173055</td>\n",
       "      <td>61.799657</td>\n",
       "      <td>267.175500</td>\n",
       "      <td>16.171557</td>\n",
       "    </tr>\n",
       "    <tr>\n",
       "      <th>11</th>\n",
       "      <td>39.565365</td>\n",
       "      <td>70.874423</td>\n",
       "      <td>230.880707</td>\n",
       "      <td>19.353525</td>\n",
       "    </tr>\n",
       "    <tr>\n",
       "      <th>12</th>\n",
       "      <td>26.996086</td>\n",
       "      <td>58.430204</td>\n",
       "      <td>146.900320</td>\n",
       "      <td>16.080000</td>\n",
       "    </tr>\n",
       "    <tr>\n",
       "      <th>13</th>\n",
       "      <td>28.944806</td>\n",
       "      <td>62.573666</td>\n",
       "      <td>189.975125</td>\n",
       "      <td>20.716842</td>\n",
       "    </tr>\n",
       "    <tr>\n",
       "      <th>14</th>\n",
       "      <td>31.664410</td>\n",
       "      <td>69.139450</td>\n",
       "      <td>173.135417</td>\n",
       "      <td>19.548236</td>\n",
       "    </tr>\n",
       "    <tr>\n",
       "      <th>15</th>\n",
       "      <td>33.159221</td>\n",
       "      <td>65.717595</td>\n",
       "      <td>203.780300</td>\n",
       "      <td>26.303238</td>\n",
       "    </tr>\n",
       "    <tr>\n",
       "      <th>16</th>\n",
       "      <td>33.313788</td>\n",
       "      <td>66.445843</td>\n",
       "      <td>271.748360</td>\n",
       "      <td>28.340262</td>\n",
       "    </tr>\n",
       "    <tr>\n",
       "      <th>17</th>\n",
       "      <td>38.401309</td>\n",
       "      <td>69.888708</td>\n",
       "      <td>269.837762</td>\n",
       "      <td>0.000000</td>\n",
       "    </tr>\n",
       "    <tr>\n",
       "      <th>18</th>\n",
       "      <td>54.804869</td>\n",
       "      <td>80.008567</td>\n",
       "      <td>296.307397</td>\n",
       "      <td>0.500000</td>\n",
       "    </tr>\n",
       "    <tr>\n",
       "      <th>19</th>\n",
       "      <td>45.273351</td>\n",
       "      <td>71.616126</td>\n",
       "      <td>266.930460</td>\n",
       "      <td>21.775433</td>\n",
       "    </tr>\n",
       "    <tr>\n",
       "      <th>20</th>\n",
       "      <td>43.828156</td>\n",
       "      <td>60.284774</td>\n",
       "      <td>341.600540</td>\n",
       "      <td>21.468914</td>\n",
       "    </tr>\n",
       "  </tbody>\n",
       "</table>\n",
       "</div>"
      ],
      "text/plain": [
       "         total_consumption                                  \n",
       "                       std       mean         max        min\n",
       "District                                                    \n",
       "1                38.181369  52.824764  221.510681   0.000000\n",
       "2                39.207696  66.928629  301.000000   0.000000\n",
       "3                39.402640  68.002866  202.685775   0.000000\n",
       "4                44.345725  75.377076  268.210880   0.000000\n",
       "5                20.622553  63.232255  155.833592   5.200000\n",
       "6                43.800549  74.134510  237.194597  24.743014\n",
       "7                47.837338  62.757131  286.466475  18.212950\n",
       "8                25.882125  63.639780  219.143883  21.400099\n",
       "9                59.267799  94.618657  398.575697  22.137594\n",
       "10               37.173055  61.799657  267.175500  16.171557\n",
       "11               39.565365  70.874423  230.880707  19.353525\n",
       "12               26.996086  58.430204  146.900320  16.080000\n",
       "13               28.944806  62.573666  189.975125  20.716842\n",
       "14               31.664410  69.139450  173.135417  19.548236\n",
       "15               33.159221  65.717595  203.780300  26.303238\n",
       "16               33.313788  66.445843  271.748360  28.340262\n",
       "17               38.401309  69.888708  269.837762   0.000000\n",
       "18               54.804869  80.008567  296.307397   0.500000\n",
       "19               45.273351  71.616126  266.930460  21.775433\n",
       "20               43.828156  60.284774  341.600540  21.468914"
      ]
     },
     "execution_count": 27,
     "metadata": {},
     "output_type": "execute_result"
    }
   ],
   "source": [
    "HR_clean.groupby('District').agg({'total_consumption':['std','mean','max','min']})"
   ]
  },
  {
   "cell_type": "code",
   "execution_count": 28,
   "id": "e401d915",
   "metadata": {
    "ExecuteTime": {
     "end_time": "2024-06-16T10:24:13.578223Z",
     "start_time": "2024-06-16T10:24:13.572952Z"
    }
   },
   "outputs": [],
   "source": [
    "total_consumption_by_districtcode=HR_clean.groupby('District')['total_consumption'].sum()"
   ]
  },
  {
   "cell_type": "code",
   "execution_count": 29,
   "id": "ad3a96bd",
   "metadata": {
    "ExecuteTime": {
     "end_time": "2024-06-16T10:24:16.346448Z",
     "start_time": "2024-06-16T10:24:16.338380Z"
    }
   },
   "outputs": [
    {
     "data": {
      "text/plain": [
       "District\n",
       "19    16829.789693\n",
       "9     14855.129103\n",
       "11    10702.037831\n",
       "Name: total_consumption, dtype: float64"
      ]
     },
     "execution_count": 29,
     "metadata": {},
     "output_type": "execute_result"
    }
   ],
   "source": [
    "total_consumption_by_districtcode.sort_values(ascending=False).head(3)"
   ]
  },
  {
   "cell_type": "code",
   "execution_count": 35,
   "id": "7202253b",
   "metadata": {
    "ExecuteTime": {
     "end_time": "2024-06-16T10:24:19.340120Z",
     "start_time": "2024-06-16T10:24:19.333211Z"
    }
   },
   "outputs": [],
   "source": [
    "HR_clean.loc[:,\"District\"] = HR_clean.loc[:,\"District\"].replace({13:\"Bhiwani\", 9:\"Jind\", 11:\"Sirsa\"})"
   ]
  },
  {
   "cell_type": "code",
   "execution_count": 36,
   "id": "892eaac3",
   "metadata": {
    "ExecuteTime": {
     "end_time": "2024-06-16T10:24:21.218784Z",
     "start_time": "2024-06-16T10:24:21.210645Z"
    }
   },
   "outputs": [],
   "source": [
    "total_consumption_by_districtname=HR_clean.groupby('District')['total_consumption'].sum()"
   ]
  },
  {
   "cell_type": "code",
   "execution_count": 37,
   "id": "ccd48af2",
   "metadata": {
    "ExecuteTime": {
     "end_time": "2024-06-16T10:24:22.901993Z",
     "start_time": "2024-06-16T10:24:22.895026Z"
    }
   },
   "outputs": [
    {
     "data": {
      "text/plain": [
       "District\n",
       "Faridabad    16829.789693\n",
       "Jind         14855.129103\n",
       "Sirsa        10702.037831\n",
       "Name: total_consumption, dtype: float64"
      ]
     },
     "execution_count": 37,
     "metadata": {},
     "output_type": "execute_result"
    }
   ],
   "source": [
    "total_consumption_by_districtname.sort_values(ascending=False).head(3)"
   ]
  },
  {
   "cell_type": "code",
   "execution_count": 38,
   "id": "f34a7ab3",
   "metadata": {
    "ExecuteTime": {
     "end_time": "2024-06-16T10:24:26.024999Z",
     "start_time": "2024-06-16T10:24:26.002237Z"
    }
   },
   "outputs": [],
   "source": [
    "from statsmodels.stats import weightstats as stests"
   ]
  },
  {
   "cell_type": "code",
   "execution_count": 39,
   "id": "7a0f3736",
   "metadata": {
    "ExecuteTime": {
     "end_time": "2024-06-16T10:24:27.312812Z",
     "start_time": "2024-06-16T10:24:27.303906Z"
    }
   },
   "outputs": [],
   "source": [
    "rural=HR_clean[HR_clean['Sector']==\"RURAL\"]\n",
    "urban=HR_clean[HR_clean['Sector']==\"URBAN\"]"
   ]
  },
  {
   "cell_type": "code",
   "execution_count": 40,
   "id": "ed868d23",
   "metadata": {
    "ExecuteTime": {
     "end_time": "2024-06-16T10:24:28.869178Z",
     "start_time": "2024-06-16T10:24:28.853238Z"
    }
   },
   "outputs": [
    {
     "data": {
      "text/html": [
       "<div>\n",
       "<style scoped>\n",
       "    .dataframe tbody tr th:only-of-type {\n",
       "        vertical-align: middle;\n",
       "    }\n",
       "\n",
       "    .dataframe tbody tr th {\n",
       "        vertical-align: top;\n",
       "    }\n",
       "\n",
       "    .dataframe thead th {\n",
       "        text-align: right;\n",
       "    }\n",
       "</style>\n",
       "<table border=\"1\" class=\"dataframe\">\n",
       "  <thead>\n",
       "    <tr style=\"text-align: right;\">\n",
       "      <th></th>\n",
       "      <th>state_1</th>\n",
       "      <th>District</th>\n",
       "      <th>Sector</th>\n",
       "      <th>Region</th>\n",
       "      <th>State_Region</th>\n",
       "      <th>ricetotal_q</th>\n",
       "      <th>wheattotal_q</th>\n",
       "      <th>moong_q</th>\n",
       "      <th>Milktotal_q</th>\n",
       "      <th>chicken_q</th>\n",
       "      <th>bread_q</th>\n",
       "      <th>foodtotal_q</th>\n",
       "      <th>Beveragestotal_v</th>\n",
       "      <th>Meals_At_Home</th>\n",
       "      <th>total_consumption</th>\n",
       "    </tr>\n",
       "  </thead>\n",
       "  <tbody>\n",
       "    <tr>\n",
       "      <th>35704</th>\n",
       "      <td>HR</td>\n",
       "      <td>Faridabad</td>\n",
       "      <td>RURAL</td>\n",
       "      <td>1</td>\n",
       "      <td>61</td>\n",
       "      <td>1.250000</td>\n",
       "      <td>4.000000</td>\n",
       "      <td>0.125000</td>\n",
       "      <td>0</td>\n",
       "      <td>0.0</td>\n",
       "      <td>0.062500</td>\n",
       "      <td>40.925704</td>\n",
       "      <td>50.000000</td>\n",
       "      <td>90.0</td>\n",
       "      <td>96.363204</td>\n",
       "    </tr>\n",
       "    <tr>\n",
       "      <th>35705</th>\n",
       "      <td>HR</td>\n",
       "      <td>Faridabad</td>\n",
       "      <td>RURAL</td>\n",
       "      <td>1</td>\n",
       "      <td>61</td>\n",
       "      <td>0.500000</td>\n",
       "      <td>5.833333</td>\n",
       "      <td>0.166667</td>\n",
       "      <td>0</td>\n",
       "      <td>0.0</td>\n",
       "      <td>0.333333</td>\n",
       "      <td>27.441958</td>\n",
       "      <td>50.000000</td>\n",
       "      <td>90.0</td>\n",
       "      <td>84.275292</td>\n",
       "    </tr>\n",
       "    <tr>\n",
       "      <th>35706</th>\n",
       "      <td>HR</td>\n",
       "      <td>Faridabad</td>\n",
       "      <td>RURAL</td>\n",
       "      <td>1</td>\n",
       "      <td>61</td>\n",
       "      <td>0.833333</td>\n",
       "      <td>6.000000</td>\n",
       "      <td>0.083333</td>\n",
       "      <td>0</td>\n",
       "      <td>0.0</td>\n",
       "      <td>0.083333</td>\n",
       "      <td>31.767038</td>\n",
       "      <td>33.333333</td>\n",
       "      <td>90.0</td>\n",
       "      <td>72.100372</td>\n",
       "    </tr>\n",
       "    <tr>\n",
       "      <th>35707</th>\n",
       "      <td>HR</td>\n",
       "      <td>Faridabad</td>\n",
       "      <td>RURAL</td>\n",
       "      <td>1</td>\n",
       "      <td>61</td>\n",
       "      <td>1.000000</td>\n",
       "      <td>5.000000</td>\n",
       "      <td>0.250000</td>\n",
       "      <td>0</td>\n",
       "      <td>0.0</td>\n",
       "      <td>0.125000</td>\n",
       "      <td>37.100600</td>\n",
       "      <td>50.000000</td>\n",
       "      <td>90.0</td>\n",
       "      <td>93.475600</td>\n",
       "    </tr>\n",
       "    <tr>\n",
       "      <th>35708</th>\n",
       "      <td>HR</td>\n",
       "      <td>Faridabad</td>\n",
       "      <td>RURAL</td>\n",
       "      <td>1</td>\n",
       "      <td>61</td>\n",
       "      <td>0.600000</td>\n",
       "      <td>3.000000</td>\n",
       "      <td>0.100000</td>\n",
       "      <td>0</td>\n",
       "      <td>0.0</td>\n",
       "      <td>0.000000</td>\n",
       "      <td>26.894340</td>\n",
       "      <td>40.000000</td>\n",
       "      <td>90.0</td>\n",
       "      <td>70.594340</td>\n",
       "    </tr>\n",
       "  </tbody>\n",
       "</table>\n",
       "</div>"
      ],
      "text/plain": [
       "      state_1   District Sector  Region  State_Region  ricetotal_q  \\\n",
       "35704      HR  Faridabad  RURAL       1            61     1.250000   \n",
       "35705      HR  Faridabad  RURAL       1            61     0.500000   \n",
       "35706      HR  Faridabad  RURAL       1            61     0.833333   \n",
       "35707      HR  Faridabad  RURAL       1            61     1.000000   \n",
       "35708      HR  Faridabad  RURAL       1            61     0.600000   \n",
       "\n",
       "       wheattotal_q   moong_q  Milktotal_q  chicken_q   bread_q  foodtotal_q  \\\n",
       "35704      4.000000  0.125000            0        0.0  0.062500    40.925704   \n",
       "35705      5.833333  0.166667            0        0.0  0.333333    27.441958   \n",
       "35706      6.000000  0.083333            0        0.0  0.083333    31.767038   \n",
       "35707      5.000000  0.250000            0        0.0  0.125000    37.100600   \n",
       "35708      3.000000  0.100000            0        0.0  0.000000    26.894340   \n",
       "\n",
       "       Beveragestotal_v  Meals_At_Home  total_consumption  \n",
       "35704         50.000000           90.0          96.363204  \n",
       "35705         50.000000           90.0          84.275292  \n",
       "35706         33.333333           90.0          72.100372  \n",
       "35707         50.000000           90.0          93.475600  \n",
       "35708         40.000000           90.0          70.594340  "
      ]
     },
     "execution_count": 40,
     "metadata": {},
     "output_type": "execute_result"
    }
   ],
   "source": [
    "rural.head()"
   ]
  },
  {
   "cell_type": "code",
   "execution_count": 41,
   "id": "cba3ad77",
   "metadata": {
    "ExecuteTime": {
     "end_time": "2024-06-16T10:24:31.022488Z",
     "start_time": "2024-06-16T10:24:31.001243Z"
    }
   },
   "outputs": [
    {
     "data": {
      "text/html": [
       "<div>\n",
       "<style scoped>\n",
       "    .dataframe tbody tr th:only-of-type {\n",
       "        vertical-align: middle;\n",
       "    }\n",
       "\n",
       "    .dataframe tbody tr th {\n",
       "        vertical-align: top;\n",
       "    }\n",
       "\n",
       "    .dataframe thead th {\n",
       "        text-align: right;\n",
       "    }\n",
       "</style>\n",
       "<table border=\"1\" class=\"dataframe\">\n",
       "  <thead>\n",
       "    <tr style=\"text-align: right;\">\n",
       "      <th></th>\n",
       "      <th>state_1</th>\n",
       "      <th>District</th>\n",
       "      <th>Sector</th>\n",
       "      <th>Region</th>\n",
       "      <th>State_Region</th>\n",
       "      <th>ricetotal_q</th>\n",
       "      <th>wheattotal_q</th>\n",
       "      <th>moong_q</th>\n",
       "      <th>Milktotal_q</th>\n",
       "      <th>chicken_q</th>\n",
       "      <th>bread_q</th>\n",
       "      <th>foodtotal_q</th>\n",
       "      <th>Beveragestotal_v</th>\n",
       "      <th>Meals_At_Home</th>\n",
       "      <th>total_consumption</th>\n",
       "    </tr>\n",
       "  </thead>\n",
       "  <tbody>\n",
       "    <tr>\n",
       "      <th>93022</th>\n",
       "      <td>HR</td>\n",
       "      <td>Mewat</td>\n",
       "      <td>URBAN</td>\n",
       "      <td>1</td>\n",
       "      <td>61</td>\n",
       "      <td>0.750000</td>\n",
       "      <td>10.750000</td>\n",
       "      <td>0.050000</td>\n",
       "      <td>0</td>\n",
       "      <td>0.000000</td>\n",
       "      <td>0.000000</td>\n",
       "      <td>34.612875</td>\n",
       "      <td>17.500000</td>\n",
       "      <td>90.0</td>\n",
       "      <td>63.662875</td>\n",
       "    </tr>\n",
       "    <tr>\n",
       "      <th>93023</th>\n",
       "      <td>HR</td>\n",
       "      <td>Mewat</td>\n",
       "      <td>URBAN</td>\n",
       "      <td>1</td>\n",
       "      <td>61</td>\n",
       "      <td>0.571429</td>\n",
       "      <td>9.285714</td>\n",
       "      <td>0.035714</td>\n",
       "      <td>0</td>\n",
       "      <td>0.142857</td>\n",
       "      <td>0.000000</td>\n",
       "      <td>24.278829</td>\n",
       "      <td>21.428571</td>\n",
       "      <td>84.0</td>\n",
       "      <td>55.743114</td>\n",
       "    </tr>\n",
       "    <tr>\n",
       "      <th>93024</th>\n",
       "      <td>HR</td>\n",
       "      <td>Mewat</td>\n",
       "      <td>URBAN</td>\n",
       "      <td>1</td>\n",
       "      <td>61</td>\n",
       "      <td>0.600000</td>\n",
       "      <td>9.000000</td>\n",
       "      <td>0.050000</td>\n",
       "      <td>0</td>\n",
       "      <td>0.100000</td>\n",
       "      <td>0.000000</td>\n",
       "      <td>23.785215</td>\n",
       "      <td>21.000000</td>\n",
       "      <td>84.0</td>\n",
       "      <td>54.535215</td>\n",
       "    </tr>\n",
       "    <tr>\n",
       "      <th>93025</th>\n",
       "      <td>HR</td>\n",
       "      <td>Mewat</td>\n",
       "      <td>URBAN</td>\n",
       "      <td>1</td>\n",
       "      <td>61</td>\n",
       "      <td>0.666667</td>\n",
       "      <td>7.333333</td>\n",
       "      <td>0.000000</td>\n",
       "      <td>0</td>\n",
       "      <td>0.000000</td>\n",
       "      <td>0.000000</td>\n",
       "      <td>23.141925</td>\n",
       "      <td>31.666667</td>\n",
       "      <td>80.0</td>\n",
       "      <td>62.808592</td>\n",
       "    </tr>\n",
       "    <tr>\n",
       "      <th>93026</th>\n",
       "      <td>HR</td>\n",
       "      <td>Mewat</td>\n",
       "      <td>URBAN</td>\n",
       "      <td>1</td>\n",
       "      <td>61</td>\n",
       "      <td>0.666667</td>\n",
       "      <td>8.333333</td>\n",
       "      <td>0.083333</td>\n",
       "      <td>0</td>\n",
       "      <td>0.166667</td>\n",
       "      <td>0.133333</td>\n",
       "      <td>30.900233</td>\n",
       "      <td>41.666667</td>\n",
       "      <td>87.0</td>\n",
       "      <td>81.950233</td>\n",
       "    </tr>\n",
       "  </tbody>\n",
       "</table>\n",
       "</div>"
      ],
      "text/plain": [
       "      state_1 District Sector  Region  State_Region  ricetotal_q  \\\n",
       "93022      HR    Mewat  URBAN       1            61     0.750000   \n",
       "93023      HR    Mewat  URBAN       1            61     0.571429   \n",
       "93024      HR    Mewat  URBAN       1            61     0.600000   \n",
       "93025      HR    Mewat  URBAN       1            61     0.666667   \n",
       "93026      HR    Mewat  URBAN       1            61     0.666667   \n",
       "\n",
       "       wheattotal_q   moong_q  Milktotal_q  chicken_q   bread_q  foodtotal_q  \\\n",
       "93022     10.750000  0.050000            0   0.000000  0.000000    34.612875   \n",
       "93023      9.285714  0.035714            0   0.142857  0.000000    24.278829   \n",
       "93024      9.000000  0.050000            0   0.100000  0.000000    23.785215   \n",
       "93025      7.333333  0.000000            0   0.000000  0.000000    23.141925   \n",
       "93026      8.333333  0.083333            0   0.166667  0.133333    30.900233   \n",
       "\n",
       "       Beveragestotal_v  Meals_At_Home  total_consumption  \n",
       "93022         17.500000           90.0          63.662875  \n",
       "93023         21.428571           84.0          55.743114  \n",
       "93024         21.000000           84.0          54.535215  \n",
       "93025         31.666667           80.0          62.808592  \n",
       "93026         41.666667           87.0          81.950233  "
      ]
     },
     "execution_count": 41,
     "metadata": {},
     "output_type": "execute_result"
    }
   ],
   "source": [
    "urban.head()"
   ]
  },
  {
   "cell_type": "code",
   "execution_count": 42,
   "id": "676b513e",
   "metadata": {
    "ExecuteTime": {
     "end_time": "2024-06-16T10:24:32.527594Z",
     "start_time": "2024-06-16T10:24:32.524253Z"
    }
   },
   "outputs": [],
   "source": [
    "cons_rural=rural['total_consumption']\n",
    "cons_urban=urban['total_consumption']"
   ]
  },
  {
   "cell_type": "code",
   "execution_count": 43,
   "id": "7e08040d",
   "metadata": {
    "ExecuteTime": {
     "end_time": "2024-06-16T10:24:33.980015Z",
     "start_time": "2024-06-16T10:24:33.970730Z"
    }
   },
   "outputs": [
    {
     "name": "stdout",
     "output_type": "stream",
     "text": [
      "Z-Score: 7.091254132951441\n",
      "P-Value: 1.329020295022693e-12\n"
     ]
    }
   ],
   "source": [
    "z_statistic, p_value = stests.ztest(cons_rural, cons_urban)\n",
    "# Print the z-score and p-value\n",
    "print(\"Z-Score:\", z_statistic)\n",
    "print(\"P-Value:\", p_value)"
   ]
  }
 ],
 "metadata": {
  "kernelspec": {
   "display_name": "Python 3 (ipykernel)",
   "language": "python",
   "name": "python3"
  },
  "language_info": {
   "codemirror_mode": {
    "name": "ipython",
    "version": 3
   },
   "file_extension": ".py",
   "mimetype": "text/x-python",
   "name": "python",
   "nbconvert_exporter": "python",
   "pygments_lexer": "ipython3",
   "version": "3.11.5"
  },
  "varInspector": {
   "cols": {
    "lenName": 16,
    "lenType": 16,
    "lenVar": 40
   },
   "kernels_config": {
    "python": {
     "delete_cmd_postfix": "",
     "delete_cmd_prefix": "del ",
     "library": "var_list.py",
     "varRefreshCmd": "print(var_dic_list())"
    },
    "r": {
     "delete_cmd_postfix": ") ",
     "delete_cmd_prefix": "rm(",
     "library": "var_list.r",
     "varRefreshCmd": "cat(var_dic_list()) "
    }
   },
   "types_to_exclude": [
    "module",
    "function",
    "builtin_function_or_method",
    "instance",
    "_Feature"
   ],
   "window_display": false
  }
 },
 "nbformat": 4,
 "nbformat_minor": 5
}
